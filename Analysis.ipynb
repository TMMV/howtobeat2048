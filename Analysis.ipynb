{
 "cells": [
  {
   "cell_type": "code",
   "execution_count": 1,
   "metadata": {},
   "outputs": [],
   "source": [
    "from lib.logic import *\n",
    "from lib.strategy_functions import *\n",
    "from lib.widget import log_progress\n",
    "import matplotlib.pyplot as plt\n",
    "import multiprocessing as mp\n",
    "import random\n",
    "import pickle\n",
    "import timeit\n",
    "from operator import attrgetter\n",
    "from ipywidgets import interact, interactive, fixed, interact_manual, Layout\n",
    "import ipywidgets as widgets\n",
    "import math\n",
    "\n",
    "%matplotlib inline\n",
    "%load_ext autoreload\n",
    "%autoreload 2\n",
    "\n",
    "colors = [\"#eee4da\",\"#ede0c8\",\"#f2b179\",\"#f59563\",\n",
    "          \"#f67c5f\",\"#f65e3b\",\"#edcf72\",\"#edcc61\"\n",
    "         \"#edc850\",\"#edc53f\",\"#edc22e\"]\n",
    "\n",
    "MAX_SEQUENCE_SIZE = 6"
   ]
  },
  {
   "cell_type": "code",
   "execution_count": 2,
   "metadata": {},
   "outputs": [],
   "source": [
    "def play_game(strategy):\n",
    "    matrix = new_game(4)\n",
    "    matrix = add_two(matrix)\n",
    "    matrix = add_two(matrix)\n",
    "\n",
    "    move_count = 0\n",
    "    tries = 0\n",
    "    current_state = 'starting'\n",
    "    while current_state != 'win' and current_state != 'lose':\n",
    "        next_move = strategy.next()\n",
    "        matrix, done = next_move(matrix)\n",
    "        if done: \n",
    "            strategy.successful_move()\n",
    "            matrix = add_two(matrix)\n",
    "            current_state = game_state(matrix)\n",
    "            move_count += 1\n",
    "            \n",
    "    score = sum(sum(matrix, []))\n",
    "    return score\n",
    "\n",
    "def try_strategy(strategy, ngames):\n",
    "    pool = mp.Pool(processes=6)\n",
    "    processes = [pool.apply_async(play_game, args=(strategy,)) for i in range(ngames)]\n",
    "    results = [p.get() for p in processes]\n",
    "    strategy.store_results(results)\n",
    "    strategy.compute_score()\n",
    "    pool.close()\n",
    "    pool.join()"
   ]
  },
  {
   "cell_type": "markdown",
   "metadata": {},
   "source": [
    "# Compute and Play all strategies"
   ]
  },
  {
   "cell_type": "code",
   "execution_count": 3,
   "metadata": {},
   "outputs": [],
   "source": [
    "def display_result_so_far(out, current_strategy, all_strategies):\n",
    "    out.clear_output(wait=True)\n",
    "    top = max(all_strategies, key=attrgetter('score'))    \n",
    "    with out:\n",
    "        print(current_strategy)\n",
    "        x = [len(s.sequence) for s in all_strategies if s.score > 0]\n",
    "        y = [s.score for s in all_strategies if s.score > 0]  \n",
    "        plt.scatter(x, y, alpha=0.5)\n",
    "        plt.scatter([len(current_strategy.sequence)], [current_strategy.score], color='orange', alpha=0.5)\n",
    "        plt.scatter([len(top.sequence)], [top.score], color='red', alpha=0.5)\n",
    "        plt.ylim(200, 825)\n",
    "        plt.xlim(0, max_sequence_size+1)\n",
    "        plt.xticks(range(0, max_sequence_size+1))\n",
    "        plt.xlabel('Size of Sequence')\n",
    "        plt.ylabel('Score')\n",
    "        plt.show()"
   ]
  },
  {
   "cell_type": "code",
   "execution_count": 4,
   "metadata": {},
   "outputs": [
    {
     "name": "stdout",
     "output_type": "stream",
     "text": [
      "0: 7\n",
      "1: 8\n",
      "2: 14\n",
      "3: 41\n",
      "4: 134\n",
      "5: 479\n",
      "6: 1637\n"
     ]
    },
    {
     "data": {
      "image/png": "[encoded data removed]",
      "text/plain": [
       "<Figure size 432x288 with 1 Axes>"
      ]
     },
     "metadata": {},
     "output_type": "display_data"
    },
    {
     "name": "stdout",
     "output_type": "stream",
     "text": [
      "\n",
      "-------- COMPUTATION TIME --------\n",
      "01:07:39\n"
     ]
    }
   ],
   "source": [
    "from itertools import product, permutations\n",
    "start_time = timeit.default_timer()\n",
    "\n",
    "# compute all possible combinations (could use a speed up)\n",
    "all_strategies = []\n",
    "sequence_sizes = []\n",
    "for sequence_length in range(0, MAX_SEQUENCE_SIZE+1):\n",
    "    sequence_combinations = product(POSSIBLE_MOVES, repeat=sequence_length)\n",
    "    for c in sequence_combinations:\n",
    "        stuck_sequence_combinations = permutations(POSSIBLE_MOVES, 4)\n",
    "        for sc in stuck_sequence_combinations:        \n",
    "            new_strategy = Strategy(list(c),list(sc))\n",
    "            new_strategy.compress()                \n",
    "            if new_strategy.is_valid() and new_strategy not in all_strategies:\n",
    "                all_strategies.append(new_strategy)\n",
    "\n",
    "        new_strategy = Strategy(list(c),[]) # random unstuck\n",
    "        new_strategy.compress()\n",
    "        if new_strategy.is_valid() and new_strategy not in all_strategies:\n",
    "            all_strategies.append(new_strategy)\n",
    "\n",
    "    print(str(sequence_length) + ': ' + str(len(all_strategies)))\n",
    "    sequence_sizes.append(len(all_strategies))\n",
    "    \n",
    "pickle.dump(all_strategies,open('all_strategies.pickle','wb'))\n",
    "\n",
    "barlist = plt.bar(range(0,len(sequence_sizes),1), sequence_sizes)\n",
    "for index, color in enumerate(colors):\n",
    "    if index >= len(sequence_sizes):\n",
    "        break\n",
    "    barlist[index].set_color(color)\n",
    "plt.title('Number of unique strategies per maximum size')\n",
    "plt.xlabel('Maximum moves per sequence')\n",
    "plt.ylabel('Number of unique strategies')\n",
    "plt.show()  \n",
    "\n",
    "print()\n",
    "print('-------- COMPUTATION TIME --------')\n",
    "elapsed = timeit.default_timer() - start_time\n",
    "m, s = divmod(elapsed, 60)\n",
    "h, m = divmod(m, 60)\n",
    "print(\"%02d:%02d:%02d\" % (h, m, s))"
   ]
  },
  {
   "cell_type": "code",
   "execution_count": 5,
   "metadata": {},
   "outputs": [
    {
     "data": {
      "application/vnd.jupyter.widget-view+json": {
       "model_id": "ba17a776b95a4d939a0a3b9eb5ec192d",
       "version_major": 2,
       "version_minor": 0
      },
      "text/plain": [
       "Output(layout=Layout(height='275px'))"
      ]
     },
     "metadata": {},
     "output_type": "display_data"
    },
    {
     "data": {
      "application/vnd.jupyter.widget-view+json": {
       "model_id": "502b0321326d449ca262b68a42b2d67f",
       "version_major": 2,
       "version_minor": 0
      },
      "text/plain": [
       "VBox(children=(HTML(value=''), IntProgress(value=0, max=1637)))"
      ]
     },
     "metadata": {},
     "output_type": "display_data"
    },
    {
     "name": "stdout",
     "output_type": "stream",
     "text": [
      "\n",
      "-------- TOP 5 STRATEGIES --------\n",
      "up, right, right, down, right [left] (817)\n",
      "up, right, up, left [] (816)\n",
      "up, right, down, right [] (812)\n",
      "up, right, up, left [down] (805)\n",
      "right, up, left, up [down] (800)\n",
      "\n",
      "-------- COMPUTATION TIME --------\n",
      "00:19:22\n",
      "Total: 01:27:02\n"
     ]
    }
   ],
   "source": [
    "strategy_start_time = timeit.default_timer()\n",
    "\n",
    "all_strategies = pickle.load(open('all_strategies.pickle','rb'))\n",
    "\n",
    "max_sequence_size = 0\n",
    "for s in all_strategies:\n",
    "    max_sequence_size = len(s.sequence) if max_sequence_size < len(s.sequence) else max_sequence_size\n",
    "\n",
    "all_out = widgets.Output(layout=Layout(height='275px'))\n",
    "display(all_out)\n",
    "        \n",
    "for strategy in log_progress(all_strategies, every=1, name='Strategies'):\n",
    "    try_strategy(strategy,100)\n",
    "    display_result_so_far(all_out, strategy, all_strategies)\n",
    "        \n",
    "print()\n",
    "print('-------- TOP 5 STRATEGIES --------')\n",
    "top5 = sorted(all_strategies, key=attrgetter('score'), reverse=True)[:5]\n",
    "for strategy in top5:\n",
    "    print(strategy)\n",
    "\n",
    "print()\n",
    "print('-------- COMPUTATION TIME --------')\n",
    "strategy_elapsed = timeit.default_timer() - strategy_start_time\n",
    "m, s = divmod(strategy_elapsed, 60)\n",
    "h, m = divmod(m, 60)\n",
    "print(\"%02d:%02d:%02d\" % (h, m, s))\n",
    "\n",
    "total_elapsed = timeit.default_timer() - start_time\n",
    "m, s = divmod(total_elapsed, 60)\n",
    "h, m = divmod(m, 60)\n",
    "print('Total: %02d:%02d:%02d' % (h, m, s))\n",
    "\n",
    "pickle.dump(all_strategies,open('all_strategies_results.pickle','wb'))"
   ]
  },
  {
   "cell_type": "markdown",
   "metadata": {},
   "source": [
    "## Let's try the best strategy 1000 times!"
   ]
  },
  {
   "cell_type": "code",
   "execution_count": 6,
   "metadata": {},
   "outputs": [
    {
     "name": "stdout",
     "output_type": "stream",
     "text": [
      "up, right, right, down, right [left] (817)\n",
      "757 +/- 218\n"
     ]
    },
    {
     "data": {
      "image/png": "[encoded data removed]",
      "text/plain": [
       "<Figure size 432x288 with 1 Axes>"
      ]
     },
     "metadata": {},
     "output_type": "display_data"
    }
   ],
   "source": [
    "all_strategies = pickle.load(open('all_strategies_results.pickle','rb'))\n",
    "\n",
    "import numpy as np\n",
    "NGAMES = 1000\n",
    "# sequence = [up, left, up, right]\n",
    "# how_to_unstuck = []\n",
    "# strategy = Strategy(sequence, how_to_unstuck)\n",
    "strategy = max(all_strategies, key=attrgetter('score'))\n",
    "\n",
    "print(strategy)\n",
    "if strategy.is_valid():\n",
    "    pool = mp.Pool(processes=6)\n",
    "    processes = [pool.apply_async(play_game, args=(strategy,)) for i in range(NGAMES)]\n",
    "    results = [p.get() for p in processes]\n",
    "    pool.close()\n",
    "    pool.join()\n",
    "\n",
    "    print(str(int(np.mean(results))) + ' +/- ' + str(int(np.std(results))))\n",
    "    n, bins, patches = plt.hist(results, 50, density=True, facecolor='g', alpha=0.75)\n",
    "    plt.show()\n",
    "else:\n",
    "    print('Invalid strategy!')"
   ]
  },
  {
   "cell_type": "markdown",
   "metadata": {},
   "source": [
    "# Random & Genomic Approach"
   ]
  },
  {
   "cell_type": "code",
   "execution_count": 14,
   "metadata": {},
   "outputs": [],
   "source": [
    "def generate_random_strategy():\n",
    "    sequence_length = random.randint(1, MAX_SEQUENCE_SIZE)\n",
    "    sequence = []\n",
    "    for i in range(0,sequence_length):\n",
    "        sequence.append(random.choice(POSSIBLE_MOVES))        \n",
    "    possible_stuck_moves = [move for move in POSSIBLE_MOVES if move not in sequence]\n",
    "    random.shuffle(possible_stuck_moves)    \n",
    "    stuck_sequence = possible_stuck_moves if random.random() > 0.5 else []\n",
    "    return Strategy(sequence,stuck_sequence)\n",
    "\n",
    "def compute_delta(generations,topn):\n",
    "    delta_score_by_generation = []\n",
    "    previous_score = 0\n",
    "    for index, generation in enumerate(generations):\n",
    "        scores = [strategy.score for strategy in generation[:topn]]\n",
    "        average_score = int(sum(scores)/len(scores))            \n",
    "        if index == 0:\n",
    "            previous_score = average_score            \n",
    "        delta = (average_score - previous_score)/previous_score\n",
    "        delta_score_by_generation.append(delta)\n",
    "        previous_score = average_score\n",
    "    return delta_score_by_generation\n",
    "\n",
    "def display_result_so_far(out, generations, topn, max_generations):\n",
    "    out.clear_output(wait=True)\n",
    "    with out:\n",
    "        print('Generation ' + str(len(generations)))\n",
    "        \n",
    "        plt.figure(figsize=(10, 4))\n",
    "        plt.subplot(1, 2, 1)\n",
    "        x = [i for i in range(0, len(generations))]\n",
    "        score_by_generation = []\n",
    "        for generation in generations:\n",
    "            scores = [strategy.score for strategy in generation[:topn]]\n",
    "            average_score = int(sum(scores)/len(scores))\n",
    "            score_by_generation.append(average_score)\n",
    "        print('Average score of top genes: '+ str(average_score))\n",
    "        \n",
    "        y = score_by_generation                      \n",
    "        plt.plot(x, y, alpha=0.5)\n",
    "        plt.ylim(200, 875)\n",
    "        plt.xlim(0, max_generations)\n",
    "        plt.xlabel('Generation')\n",
    "        plt.ylabel('Average Score')\n",
    "        \n",
    "        plt.subplot(1, 2, 2)\n",
    "        x = [i for i in range(0, len(generations))]            \n",
    "        y = compute_delta(generations,topn)       \n",
    "        plt.plot(x, y, alpha=0.5)\n",
    "        plt.axhline(0,color='grey',linewidth=1)\n",
    "        plt.ylim(-0.35, 0.35)\n",
    "        plt.xlim(0, max_generations)\n",
    "        plt.xlabel('Generation')\n",
    "        plt.ylabel('Average Score Delta')\n",
    "        \n",
    "        plt.tight_layout()\n",
    "        plt.show()"
   ]
  },
  {
   "cell_type": "code",
   "execution_count": 15,
   "metadata": {},
   "outputs": [],
   "source": [
    "def has_stabilized(generations, topn, minimum_gens):\n",
    "    deltas = compute_delta(generations, topn)\n",
    "    count = 0 \n",
    "    for delta in deltas:\n",
    "        if math.fabs(delta) < 0.05:\n",
    "            count += 1\n",
    "        else:\n",
    "            count = 0\n",
    "            \n",
    "        if count > minimum_gens:\n",
    "            return True\n",
    "        \n",
    "    return False\n",
    "\n",
    "def compute_generations(use_mutation, run_all_generations,\n",
    "                        genes_per_generation, portion_to_keep,\n",
    "                        max_generations, runs_per_strategy,\n",
    "                        minimum_gens, debug = True):\n",
    "    \n",
    "    top_to_keep = int(genes_per_generation*portion_to_keep)\n",
    "    \n",
    "    genetic_out = widgets.Output(layout=Layout(height='350px'))\n",
    "    if debug:\n",
    "        display(genetic_out)\n",
    "\n",
    "    generations = []\n",
    "    for generation_index in log_progress(range(0, max_generations), every=1 ,name='Generations', display_bar=debug):\n",
    "        current_generation = generations[generation_index-1] if generation_index > 0 else []\n",
    "\n",
    "        # first run => fill with random genes\n",
    "        if not current_generation: \n",
    "            filled_with_random = 0\n",
    "            while len(current_generation) < genes_per_generation:\n",
    "                random_strategy = generate_random_strategy()\n",
    "                if random_strategy not in current_generation:\n",
    "                    random_strategy.set_parent_generation('Generation 0')\n",
    "                    current_generation.append(random_strategy)\n",
    "                    filled_with_random += 1\n",
    "        else:\n",
    "            current_generation = sorted(\n",
    "                                    current_generation,\n",
    "                                    key=attrgetter('score'),\n",
    "                                    reverse=True)\n",
    "\n",
    "            top_genes = current_generation[:top_to_keep]        \n",
    "            current_generation = list(top_genes) # de-reference\n",
    "            position = 0\n",
    "            new_mutants = 0\n",
    "            while len(current_generation) < genes_per_generation:\n",
    "                if not use_mutation:\n",
    "                    random_strategy = generate_random_strategy()\n",
    "                    if random_strategy not in current_generation:\n",
    "                        random_strategy.set_parent_generation('Generation ' + str(generation_index))\n",
    "                        current_generation.append(random_strategy)\n",
    "                        new_mutants += 1\n",
    "                else:                \n",
    "                    # first run everyone mutates!\n",
    "                    if new_mutants < top_to_keep:\n",
    "                        for strategy in top_genes:\n",
    "                            new_strategy = Strategy(strategy.sequence, strategy.stuck_sequence)\n",
    "                            \n",
    "                            safety_mechanism = 0\n",
    "                            while new_strategy in current_generation:\n",
    "                                new_strategy.mutate(MAX_SEQUENCE_SIZE)\n",
    "                                safety_mechanism += 1\n",
    "                                if safety_mechanism > 10000:\n",
    "                                    print('Safety mechanism activated. Maybe you have more genes than possible strategies?')\n",
    "                                    break\n",
    "                                    \n",
    "                            new_strategy.set_parent_generation('Generation ' + str(generation_index))\n",
    "                            current_generation.append(new_strategy)\n",
    "                            new_mutants += 1\n",
    "                    # after that, top gets more chances\n",
    "                    else:\n",
    "                        if random.random() < 0.20:\n",
    "                            strategy = top_genes[position]\n",
    "                            new_strategy = Strategy(strategy.sequence, strategy.stuck_sequence)\n",
    "                            \n",
    "                            safety_mechanism = 0\n",
    "                            while new_strategy in current_generation:\n",
    "                                new_strategy.mutate(MAX_SEQUENCE_SIZE)\n",
    "                                safety_mechanism += 1\n",
    "                                if safety_mechanism > 10000:\n",
    "                                    print('Safety mechanism activated. Maybe you have more genes than possible strategies?')\n",
    "                                    break\n",
    "                                    \n",
    "                            new_strategy.set_parent_generation('Generation ' + str(generation_index))\n",
    "                            current_generation.append(new_strategy)\n",
    "                            new_mutants += 1\n",
    "                            position = 0  # set as zero so that first position has more chances\n",
    "                        else:\n",
    "                            position += 1\n",
    "                            if position >= len(top_genes):\n",
    "                                position = 0  \n",
    "                                \n",
    "                \n",
    "        # run for all\n",
    "        for strategy in current_generation:\n",
    "            try_strategy(strategy, runs_per_strategy)\n",
    "\n",
    "        # add list to generations\n",
    "        scores = [strategy.score for strategy in current_generation[:top_to_keep]]\n",
    "        generations.append(current_generation)\n",
    "        \n",
    "        if debug:\n",
    "            display_result_so_far(genetic_out, generations, top_to_keep, max_generations)\n",
    "        \n",
    "        if not run_all_generations:\n",
    "            if has_stabilized(generations, top_to_keep, minimum_gens):\n",
    "                break            \n",
    "        \n",
    "    # Let's settle all the strategies\n",
    "    if debug:\n",
    "        with genetic_out:\n",
    "            print('Settling results from last generation...')\n",
    "        \n",
    "    current_generation = sorted(current_generation, key=attrgetter('score'), reverse=True)\n",
    "    for strategy in current_generation[:top_to_keep]:\n",
    "        runs_to_thousand = 100 - len(strategy.results)\n",
    "        if runs_to_thousand > 0:        \n",
    "            try_strategy(strategy, runs_to_thousand)\n",
    "        \n",
    "    return generations"
   ]
  },
  {
   "cell_type": "code",
   "execution_count": 20,
   "metadata": {},
   "outputs": [
    {
     "data": {
      "application/vnd.jupyter.widget-view+json": {
       "model_id": "48e5f9838f2f4fc19ec32a9aa9ee1ae7",
       "version_major": 2,
       "version_minor": 0
      },
      "text/plain": [
       "Output(layout=Layout(height='350px'))"
      ]
     },
     "metadata": {},
     "output_type": "display_data"
    },
    {
     "data": {
      "application/vnd.jupyter.widget-view+json": {
       "model_id": "7ab7258fbf8e4d6284e7cdb05dc1771a",
       "version_major": 2,
       "version_minor": 0
      },
      "text/plain": [
       "VBox(children=(HTML(value=''), IntProgress(value=0, max=20)))"
      ]
     },
     "metadata": {},
     "output_type": "display_data"
    },
    {
     "name": "stdout",
     "output_type": "stream",
     "text": [
      "\n",
      "-------- NUMBER OF GENERATIONS --------\n",
      "Computed 20 generations.\n",
      "\n",
      "-------- LAST GENERATION --------\n",
      "left, down, right, down [up] (836) [Generation 19]\n",
      "right, up, right, down [] (818) [Generation 2]\n",
      "down, right, down, left [up] (814) [Generation 16]\n",
      "right, down, right, right, right, up [] (742) [Generation 8]\n",
      "down, left, left, down, up, left [right] (620) [Generation 2]\n",
      "\n",
      "-------- COMPUTATION TIME --------\n",
      "00:01:06\n"
     ]
    }
   ],
   "source": [
    "start_time = timeit.default_timer()\n",
    "\n",
    "GENES_PER_GENERATION = 15\n",
    "PORTION_TO_KEEP = 1/3\n",
    "RUNS_PER_STRATEGY = 12\n",
    "\n",
    "generations = compute_generations(\n",
    "        use_mutation=False,\n",
    "        run_all_generations=True,\n",
    "        genes_per_generation=GENES_PER_GENERATION,\n",
    "        portion_to_keep=PORTION_TO_KEEP,\n",
    "        max_generations=20,\n",
    "        runs_per_strategy=RUNS_PER_STRATEGY,\n",
    "        minimum_gens=5,\n",
    "        debug=True\n",
    "    )\n",
    "last_generation = generations[len(generations)-1]\n",
    "\n",
    "print()\n",
    "print('-------- NUMBER OF GENERATIONS --------')\n",
    "print('Computed ' + str(len(generations)) + ' generations.')\n",
    "\n",
    "print()\n",
    "print('-------- LAST GENERATION --------')\n",
    "last_generation = sorted(last_generation, key=attrgetter('score'), reverse=True)\n",
    "for strategy in last_generation[:5]:\n",
    "    print(strategy)\n",
    "\n",
    "print()\n",
    "print('-------- COMPUTATION TIME --------')\n",
    "elapsed = timeit.default_timer() - start_time\n",
    "m, s = divmod(elapsed, 60)\n",
    "h, m = divmod(m, 60)\n",
    "print(\"%02d:%02d:%02d\" % (h, m, s))"
   ]
  },
  {
   "cell_type": "code",
   "execution_count": 37,
   "metadata": {},
   "outputs": [
    {
     "name": "stdout",
     "output_type": "stream",
     "text": [
      "\n",
      "-------- NUMBER OF GENERATIONS --------\n",
      "Computed 15 generations.\n",
      "\n",
      "-------- LAST GENERATION --------\n",
      "left, down, left, up [] (827) [Generation 7]\n",
      "down, left, left, up, left [] (804) [Generation 12]\n",
      "down, left, up, left [right] (795) [Generation 12]\n",
      "down, left, left, up, left [right] (765) [Generation 10]\n",
      "left, down, left, up, left [right] (730) [Generation 13]\n",
      "\n",
      "-------- COMPUTATION TIME --------\n",
      "00:00:46\n"
     ]
    }
   ],
   "source": [
    "start_time = timeit.default_timer()\n",
    "\n",
    "GENES_PER_GENERATION = 15\n",
    "PORTION_TO_KEEP = 1/3\n",
    "RUNS_PER_STRATEGY = 12\n",
    "\n",
    "generations = compute_generations(\n",
    "        use_mutation=True,\n",
    "        run_all_generations=False,\n",
    "        genes_per_generation=GENES_PER_GENERATION,\n",
    "        portion_to_keep=PORTION_TO_KEEP,\n",
    "        max_generations=50,\n",
    "        runs_per_strategy=RUNS_PER_STRATEGY,\n",
    "        minimum_gens=5,\n",
    "        debug=False\n",
    "    )\n",
    "last_generation = generations[len(generations)-1]\n",
    "\n",
    "print()\n",
    "print('-------- NUMBER OF GENERATIONS --------')\n",
    "print('Computed ' + str(len(generations)) + ' generations.')\n",
    "\n",
    "print()\n",
    "print('-------- LAST GENERATION --------')\n",
    "last_generation = sorted(last_generation, key=attrgetter('score'), reverse=True)\n",
    "for strategy in last_generation[:5]:\n",
    "    print(strategy)\n",
    "\n",
    "print()\n",
    "print('-------- COMPUTATION TIME --------')\n",
    "elapsed = timeit.default_timer() - start_time\n",
    "m, s = divmod(elapsed, 60)\n",
    "h, m = divmod(m, 60)\n",
    "print(\"%02d:%02d:%02d\" % (h, m, s))"
   ]
  },
  {
   "cell_type": "code",
   "execution_count": 26,
   "metadata": {},
   "outputs": [
    {
     "data": {
      "application/vnd.jupyter.widget-view+json": {
       "model_id": "eb05ce12332c4f02995b00929c32bae9",
       "version_major": 2,
       "version_minor": 0
      },
      "text/plain": [
       "VBox(children=(HTML(value=''), IntProgress(value=0)))"
      ]
     },
     "metadata": {},
     "output_type": "display_data"
    },
    {
     "name": "stdout",
     "output_type": "stream",
     "text": [
      "Average number of generations: 14.09\n",
      "Did not achieve best solution 23 times.\n",
      "\n",
      "-------- COMPUTATION TIME --------\n",
      "01:09:21\n"
     ]
    },
    {
     "data": {
      "application/vnd.jupyter.widget-view+json": {
       "model_id": "a9f4795d4c6c4115891f9c0776161713",
       "version_major": 2,
       "version_minor": 0
      },
      "text/plain": [
       "VBox(children=(HTML(value=''), IntProgress(value=0)))"
      ]
     },
     "metadata": {},
     "output_type": "display_data"
    },
    {
     "name": "stdout",
     "output_type": "stream",
     "text": [
      "\n",
      "Average number of generations: 12.4\n",
      "Did not achieve best solution 9 times.\n",
      "\n",
      "-------- COMPUTATION TIME --------\n",
      "01:06:23\n"
     ]
    }
   ],
   "source": [
    "start_time = timeit.default_timer()\n",
    "\n",
    "n = 100\n",
    "GENES_PER_GENERATION = 15\n",
    "PORTION_TO_KEEP = 1/3\n",
    "RUNS_PER_STRATEGY = 12\n",
    "\n",
    "# run without mutation\n",
    "no_mutation = []\n",
    "for i in log_progress(range(0, n), every=1, name='No Mutation (random)'):\n",
    "    generations = compute_generations(\n",
    "        use_mutation=False,\n",
    "        run_all_generations=False,\n",
    "        genes_per_generation=GENES_PER_GENERATION,\n",
    "        portion_to_keep=PORTION_TO_KEEP,\n",
    "        max_generations=50,\n",
    "        runs_per_strategy=RUNS_PER_STRATEGY,\n",
    "        minimum_gens=5,\n",
    "        debug=False\n",
    "    )\n",
    "    last_generation = generations[len(generations)-1]\n",
    "    last_generation = sorted(last_generation, key=attrgetter('score'), reverse=True)\n",
    "    result = {\n",
    "        'number_of_generations': len(generations),\n",
    "        'top_score': last_generation[0].score\n",
    "    }\n",
    "    no_mutation.append(result)\n",
    "    \n",
    "length_of_generations = [x['number_of_generations'] for x in no_mutation]\n",
    "average = round(sum(length_of_generations)/len(length_of_generations),2)\n",
    "print('Average number of generations: ' + str(average))\n",
    "failed = sum([1 for x in no_mutation if x['top_score'] < 775])\n",
    "print('Did not achieve best solution ' + str(failed) + ' times.')\n",
    "\n",
    "print()\n",
    "print('-------- COMPUTATION TIME --------')\n",
    "elapsed = timeit.default_timer() - start_time\n",
    "m, s = divmod(elapsed, 60)\n",
    "h, m = divmod(m, 60)\n",
    "print(\"%02d:%02d:%02d\" % (h, m, s))\n",
    "\n",
    "\n",
    "start_time = timeit.default_timer()\n",
    "    \n",
    "with_mutation = []\n",
    "for i in log_progress(range(0, n), every=1, name='With Mutation'):\n",
    "    generations = compute_generations(\n",
    "        use_mutation=True,\n",
    "        run_all_generations=False,\n",
    "        genes_per_generation=GENES_PER_GENERATION,\n",
    "        portion_to_keep=PORTION_TO_KEEP,\n",
    "        max_generations=50,\n",
    "        runs_per_strategy=RUNS_PER_STRATEGY,\n",
    "        minimum_gens=5,\n",
    "        debug=False\n",
    "    )\n",
    "    last_generation = generations[len(generations)-1]\n",
    "    last_generation = sorted(last_generation, key=attrgetter('score'), reverse=True)\n",
    "    result = {\n",
    "        'number_of_generations': len(generations),\n",
    "        'top_score': last_generation[0].score\n",
    "    }\n",
    "    with_mutation.append(result)\n",
    "\n",
    "print()    \n",
    "length_of_generations = [x['number_of_generations'] for x in with_mutation]\n",
    "average = round(sum(length_of_generations)/len(length_of_generations),2)\n",
    "print('Average number of generations: ' + str(average))\n",
    "failed = sum([1 for x in with_mutation if x['top_score'] < 775])\n",
    "print('Did not achieve best solution ' + str(failed) + ' times.')\n",
    "    \n",
    "print()\n",
    "print('-------- COMPUTATION TIME --------')\n",
    "elapsed = timeit.default_timer() - start_time\n",
    "m, s = divmod(elapsed, 60)\n",
    "h, m = divmod(m, 60)\n",
    "print(\"%02d:%02d:%02d\" % (h, m, s))"
   ]
  },
  {
   "cell_type": "code",
   "execution_count": 29,
   "metadata": {},
   "outputs": [
    {
     "data": {
      "text/plain": [
       "<matplotlib.axes._subplots.AxesSubplot at 0x7f3a21632400>"
      ]
     },
     "metadata": {},
     "output_type": "display_data"
    },
    {
     "data": {
      "image/png": "[encoded data removed]",
      "text/plain": [
       "<Figure size 432x288 with 1 Axes>"
      ]
     },
     "metadata": {},
     "output_type": "display_data"
    }
   ],
   "source": [
    "import pandas as pd\n",
    "gnm = [x['top_score'] for x in no_mutation]\n",
    "gwm = [x['top_score'] for x in with_mutation]\n",
    "\n",
    "failed = sum([1 for x in no_mutation if x['top_score'] < 775])\n",
    "nomutation_label = 'No Mutation (' +str(len(no_mutation)-failed) + '/' + str(len(no_mutation)) + ')'\n",
    "\n",
    "failed = sum([1 for x in with_mutation if x['top_score'] < 775])\n",
    "mutation_label = 'With Mutation (' +str(len(with_mutation)-failed) + '/' + str(len(with_mutation)) + ')'\n",
    "\n",
    "df = pd.DataFrame({nomutation_label:gnm, mutation_label:gwm})\n",
    "boxplot = df.boxplot(column=[nomutation_label, mutation_label], grid=False)\n",
    "boxplot.set_title('Comparison of average top score of both methods')\n",
    "boxplot.set_xlabel('Method')\n",
    "boxplot.set_ylabel('Score')\n",
    "display(boxplot)"
   ]
  },
  {
   "cell_type": "code",
   "execution_count": 28,
   "metadata": {},
   "outputs": [
    {
     "data": {
      "text/plain": [
       "<matplotlib.axes._subplots.AxesSubplot at 0x7f3a279a1be0>"
      ]
     },
     "metadata": {},
     "output_type": "display_data"
    },
    {
     "data": {
      "image/png": "[encoded data removed]",
      "text/plain": [
       "<Figure size 432x288 with 1 Axes>"
      ]
     },
     "metadata": {},
     "output_type": "display_data"
    }
   ],
   "source": [
    "gnm = [x['number_of_generations']-5 for x in no_mutation] # -5 because i care about the iteration where it finds and converges to best solution\n",
    "gwm = [x['number_of_generations']-5 for x in with_mutation]\n",
    "df = pd.DataFrame({'No Mutation':gnm, 'With Mutation':gwm})\n",
    "boxplot = df.boxplot(column=['No Mutation', 'With Mutation'], grid=False)\n",
    "boxplot.set_title('Comparison of average number of generations of both methods')\n",
    "boxplot.set_xlabel('Method')\n",
    "boxplot.set_ylabel('Number of generations')\n",
    "display(boxplot)"
   ]
  },
  {
   "cell_type": "code",
   "execution_count": null,
   "metadata": {},
   "outputs": [],
   "source": []
  }
 ],
 "metadata": {
  "kernelspec": {
   "display_name": "Python 3",
   "language": "python",
   "name": "python3"
  },
  "language_info": {
   "codemirror_mode": {
    "name": "ipython",
    "version": 3
   },
   "file_extension": ".py",
   "mimetype": "text/x-python",
   "name": "python",
   "nbconvert_exporter": "python",
   "pygments_lexer": "ipython3",
   "version": "3.6.3"
  }
 },
 "nbformat": 4,
 "nbformat_minor": 2
}
